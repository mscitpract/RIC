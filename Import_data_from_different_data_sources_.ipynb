{
  "nbformat": 4,
  "nbformat_minor": 0,
  "metadata": {
    "colab": {
      "provenance": [],
      "authorship_tag": "ABX9TyP/BOvo5pJv/cUw29LAJ4gp",
      "include_colab_link": true
    },
    "kernelspec": {
      "name": "python3",
      "display_name": "Python 3"
    },
    "language_info": {
      "name": "python"
    }
  },
  "cells": [
    {
      "cell_type": "markdown",
      "metadata": {
        "id": "view-in-github",
        "colab_type": "text"
      },
      "source": [
        "<a href=\"https://colab.research.google.com/github/mscitpract/RIC/blob/main/Import_data_from_different_data_sources_.ipynb\" target=\"_parent\"><img src=\"https://colab.research.google.com/assets/colab-badge.svg\" alt=\"Open In Colab\"/></a>"
      ]
    },
    {
      "cell_type": "code",
      "execution_count": 1,
      "metadata": {
        "colab": {
          "base_uri": "https://localhost:8080/"
        },
        "id": "YHiXm_TeNL07",
        "outputId": "3d8a872c-2e0d-420c-afad-c06d13022109"
      },
      "outputs": [
        {
          "output_type": "stream",
          "name": "stdout",
          "text": [
            "                        Country              Currency CurrencyCode\n",
            "1                   Afghanistan        Afghan afghani          AFN\n",
            "2    Akrotiri and Dhekelia (UK)         European euro          EUR\n",
            "3       Aland Islands (Finland)         European euro          EUR\n",
            "4                       Albania          Albanian lek          ALL\n",
            "5                       Algeria        Algerian dinar          DZD\n",
            "..                          ...                   ...          ...\n",
            "271           Wake Island (USA)  United States dollar          USD\n",
            "272  Wallis and Futuna (France)             CFP franc          XPF\n",
            "274                       Yemen           Yemeni rial          YER\n",
            "276                      Zambia        Zambian kwacha          ZMW\n",
            "277                    Zimbabwe  United States dollar          USD\n",
            "\n",
            "[253 rows x 3 columns]\n",
            "~~~~~~ Data from Excel Sheet Retrived Successfully ~~~~~~~ \n"
          ]
        }
      ],
      "source": [
        "import os\n",
        "import pandas as pd \n",
        "Base='VKHCG' \n",
        "sFileDir=Base + '/01-Vermeulen/01-Retrieve/01-EDS/02-Python' #if not os.path.exists(sFileDir): \n",
        "#os.makedirs(sFileDir) \n",
        "CurrencyRawData = pd.read_excel('VKHCG/01-Vermeulen/00-RawData/Country_Currency.xlsx') \n",
        "sColumns = ['Country or territory', 'Currency', 'ISO-4217'] \n",
        "CurrencyData = CurrencyRawData[sColumns] \n",
        "CurrencyData.rename(columns={'Country or territory': 'Country', 'ISO-4217': 'CurrencyCode'}, inplace=True) \n",
        "CurrencyData.dropna(subset=['Currency'],inplace=True) \n",
        "CurrencyData['Country'] = CurrencyData['Country'].map(lambda x: x.strip()) \n",
        "CurrencyData['Currency'] = CurrencyData['Currency'].map(lambda x: x.strip())\n",
        "CurrencyData['CurrencyCode'] = CurrencyData['CurrencyCode'].map(lambda x: x.strip()) \n",
        "print(CurrencyData)\n",
        "print('~~~~~~ Data from Excel Sheet Retrived Successfully ~~~~~~~ ') \n",
        "sFileName=sFileDir + '/Retrieve-Country-Currency.csv' \n",
        "CurrencyData.to_csv(sFileName, index = False) \n"
      ]
    }
  ]
}