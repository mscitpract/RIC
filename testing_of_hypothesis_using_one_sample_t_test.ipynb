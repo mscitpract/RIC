{
  "nbformat": 4,
  "nbformat_minor": 0,
  "metadata": {
    "colab": {
      "provenance": [],
      "authorship_tag": "ABX9TyNK2sElPMTdGTNCFKGXiSJy",
      "include_colab_link": true
    },
    "kernelspec": {
      "name": "python3",
      "display_name": "Python 3"
    },
    "language_info": {
      "name": "python"
    }
  },
  "cells": [
    {
      "cell_type": "markdown",
      "metadata": {
        "id": "view-in-github",
        "colab_type": "text"
      },
      "source": [
        "<a href=\"https://colab.research.google.com/github/mscitpract/RIC/blob/main/testing_of_hypothesis_using_one_sample_t_test.ipynb\" target=\"_parent\"><img src=\"https://colab.research.google.com/assets/colab-badge.svg\" alt=\"Open In Colab\"/></a>"
      ]
    },
    {
      "cell_type": "code",
      "execution_count": 9,
      "metadata": {
        "colab": {
          "base_uri": "https://localhost:8080/"
        },
        "id": "fkqtO-hds_P7",
        "outputId": "f34882a1-307c-4fe8-87f0-cdf301da99eb"
      },
      "outputs": [
        {
          "output_type": "stream",
          "name": "stdout",
          "text": [
            "[20. 30. 25. 13. 16. 17. 34. 35. 38. 42. 43. 45. 48. 49. 50. 51. 54. 55.\n",
            " 56. 59. 61. 62. 18. 22. 29. 30. 31. 39. 52. 53. 67. 36. 47. 54. 40. 40.\n",
            " 35. 22. 59. 58. 30. 43. 22. 45. 21. 59. 51. 47. 25. 58. 50. 23. 24. 45.\n",
            " 37. 59. 28. 28. 48. 42. 54. 36. 36. 24. 26. 24. 50. 48. 34. 44. 56. 55.\n",
            " 35. 33. 39. 53. 34. 28. 56. 24. 21. 29. 28. 58. 35. 57. 26. 25. 59. 56.\n",
            " 22. 57. 48. 33. 23. 26. 57. 32. 53. 31. 35. 44. 54. 25. 31. 58. 26. 32.\n",
            " 26. 50. 41. 49. 26. 33. 34. 24. 43. 42. 51. 36. 38. 38. 40. 38. 56. 39.\n",
            " 23. 33. 53. 30. 38.]\n",
            "39.47328244274809\n",
            "p-values -  5.362905195437013e-14\n",
            " we are rejecting null hypothesis\n"
          ]
        }
      ],
      "source": [
        "from scipy.stats import ttest_1samp \n",
        "import numpy as np\n",
        "ages = np.genfromtxt('ages.csv') \n",
        "print(ages)\n",
        "ages_mean = np.mean(ages) \n",
        "print(ages_mean)\n",
        "tset, pval = ttest_1samp(ages, 30) \n",
        "print('p-values - ',pval)\n",
        "if pval< 0.05: # alpha value is 0.05 \n",
        "  print(\" we are rejecting null hypothesis\") \n",
        "else:\n",
        "  print(\"we are accepting null hypothesis\")\n"
      ]
    }
  ]
}